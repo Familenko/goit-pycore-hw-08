{
 "cells": [
  {
   "cell_type": "code",
   "execution_count": 1,
   "metadata": {},
   "outputs": [],
   "source": [
    "from chat_bot import ChatBot"
   ]
  },
  {
   "cell_type": "code",
   "execution_count": 2,
   "metadata": {},
   "outputs": [
    {
     "name": "stdout",
     "output_type": "stream",
     "text": [
      "Command: all\n",
      "Response: Contact name: Jane, phones: +381234567893, birthday: 01.01.1990\n",
      "Contact name: John, phones: , birthday: N/A\n",
      "----------------------------------------------------------------------------------------------------\n",
      "Command: exit\n",
      "Response: Good bye!\n",
      "----------------------------------------------------------------------------------------------------\n"
     ]
    }
   ],
   "source": [
    "bot = ChatBot()\n",
    "\n",
    "test_cases = [\n",
    "    \"all\",\n",
    "    \"exit\",\n",
    "]\n",
    "\n",
    "for command in test_cases:\n",
    "    response = bot.run(command)\n",
    "    print(f\"Command: {command}\")\n",
    "    print(f\"Response: {response}\")\n",
    "    print(\"-\" * 100)"
   ]
  }
 ],
 "metadata": {
  "kernelspec": {
   "display_name": "vevn",
   "language": "python",
   "name": "python3"
  },
  "language_info": {
   "codemirror_mode": {
    "name": "ipython",
    "version": 3
   },
   "file_extension": ".py",
   "mimetype": "text/x-python",
   "name": "python",
   "nbconvert_exporter": "python",
   "pygments_lexer": "ipython3",
   "version": "3.11.3"
  }
 },
 "nbformat": 4,
 "nbformat_minor": 2
}
