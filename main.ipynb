{
 "cells": [
  {
   "cell_type": "code",
   "execution_count": 1,
   "metadata": {},
   "outputs": [],
   "source": [
    "from datetime import datetime, timedelta\n",
    "\n",
    "from chat_bot import ChatBot"
   ]
  },
  {
   "cell_type": "code",
   "execution_count": 2,
   "metadata": {},
   "outputs": [
    {
     "data": {
      "text/plain": [
       "datetime.date(2024, 7, 31)"
      ]
     },
     "execution_count": 2,
     "metadata": {},
     "output_type": "execute_result"
    }
   ],
   "source": [
    "TODAY = datetime.now().date()\n",
    "TODAY"
   ]
  },
  {
   "cell_type": "code",
   "execution_count": 3,
   "metadata": {},
   "outputs": [
    {
     "name": "stdout",
     "output_type": "stream",
     "text": [
      "Command: add John +381234567890\n",
      "Response: Contact added.\n",
      "----------------------------------------------------------------------------------------------------\n",
      "Command: add John +381234567891\n",
      "Response: Contact updated.\n",
      "----------------------------------------------------------------------------------------------------\n",
      "Command: add Jane 81234567893\n",
      "Response: Contact added.\n",
      "----------------------------------------------------------------------------------------------------\n",
      "Command: all\n",
      "Response: Contact name: John, phones: +381234567890; +381234567891, birthday: N/A\n",
      "Contact name: Jane, phones: +381234567893, birthday: N/A\n",
      "----------------------------------------------------------------------------------------------------\n",
      "Command: remove-phone John +381234567891\n",
      "Response: Phone number '+381234567891' removed from contact 'John'.\n",
      "----------------------------------------------------------------------------------------------------\n",
      "Command: phone John\n",
      "Response: John's phone numbers are +381234567890\n",
      "----------------------------------------------------------------------------------------------------\n",
      "Command: change John +381234567890 +381234567891\n",
      "Response: Contact updated.\n",
      "----------------------------------------------------------------------------------------------------\n",
      "Command: phone John\n",
      "Response: John's phone numbers are +381234567891\n",
      "----------------------------------------------------------------------------------------------------\n",
      "Command: add-birthday John 1990-12-25\n",
      "Response: Invalid date format. Use DD.MM.YYYY\n",
      "----------------------------------------------------------------------------------------------------\n",
      "Command: add-birthday Jane 01.01.1990\n",
      "Response: Birthday added.\n",
      "----------------------------------------------------------------------------------------------------\n",
      "Command: add-birthday John 03.08.2014\n",
      "Response: Birthday added.\n",
      "----------------------------------------------------------------------------------------------------\n",
      "Command: show-birthday John\n",
      "Response: John's birthday is 03.08.2014\n",
      "----------------------------------------------------------------------------------------------------\n",
      "Command: birthdays\n",
      "Response: Contact name: John, phones: +381234567891, birthday: 03.08.2014\n",
      "----------------------------------------------------------------------------------------------------\n",
      "Command: delete John\n",
      "Response: Contact 'John' deleted.\n",
      "----------------------------------------------------------------------------------------------------\n",
      "Command: phone John\n",
      "Response: The contact does not exist. Try again.\n",
      "----------------------------------------------------------------------------------------------------\n",
      "Command: remove-phone John +381234567891\n",
      "Response: The contact does not exist. Try again.\n",
      "----------------------------------------------------------------------------------------------------\n",
      "Command: all\n",
      "Response: Contact name: Jane, phones: +381234567893, birthday: 01.01.1990\n",
      "----------------------------------------------------------------------------------------------------\n",
      "Command: nonexistent_command\n",
      "Response: Invalid command. Try again.\n",
      "----------------------------------------------------------------------------------------------------\n",
      "Command: \n",
      "Response: Invalid command. Try again.\n",
      "----------------------------------------------------------------------------------------------------\n",
      "Command: add John 123456\n",
      "Response: Phone number must be in the format +38XXXXXXXXXX\n",
      "----------------------------------------------------------------------------------------------------\n",
      "Command: all\n",
      "Response: Contact name: Jane, phones: +381234567893, birthday: 01.01.1990\n",
      "Contact name: John, phones: , birthday: N/A\n",
      "----------------------------------------------------------------------------------------------------\n",
      "Command: exit\n",
      "Response: Good bye!\n",
      "----------------------------------------------------------------------------------------------------\n"
     ]
    }
   ],
   "source": [
    "bot = ChatBot()\n",
    "\n",
    "test_cases = [\n",
    "    \"add John +381234567890\",\n",
    "    \"add John +381234567891\",\n",
    "    \"add Jane 81234567893\",\n",
    "    \"all\",\n",
    "    \"remove-phone John +381234567891\",\n",
    "    \"phone John\",\n",
    "    \"change John +381234567890 +381234567891\",\n",
    "    \"phone John\",\n",
    "    \"add-birthday John 1990-12-25\",\n",
    "    \"add-birthday Jane 01.01.1990\",\n",
    "    f\"add-birthday John {(TODAY - timedelta(days=10 * 365)).strftime('%d.%m.%Y')}\",\n",
    "    \"show-birthday John\",\n",
    "    \"birthdays\",\n",
    "    \"delete John\",\n",
    "    \"phone John\",\n",
    "    \"remove-phone John +381234567891\",\n",
    "    \"all\",\n",
    "    \"nonexistent_command\",\n",
    "    \"\",\n",
    "    \"add John 123456\",\n",
    "    \"all\",\n",
    "    \"exit\",\n",
    "]\n",
    "\n",
    "for command in test_cases:\n",
    "    response = bot.run(command)\n",
    "    print(f\"Command: {command}\")\n",
    "    print(f\"Response: {response}\")\n",
    "    print(\"-\" * 100)"
   ]
  },
  {
   "cell_type": "code",
   "execution_count": 4,
   "metadata": {},
   "outputs": [],
   "source": [
    "def main():\n",
    "    bot = ChatBot()\n",
    "    while True:\n",
    "        command = input(\"Enter command: \")\n",
    "        response = bot.run(command)\n",
    "        print(response)\n",
    "        if response == \"Good bye!\":\n",
    "            break"
   ]
  },
  {
   "cell_type": "code",
   "execution_count": 5,
   "metadata": {},
   "outputs": [
    {
     "name": "stdout",
     "output_type": "stream",
     "text": [
      "Contact name: Jane, phones: +381234567893, birthday: 01.01.1990\n",
      "Contact name: John, phones: , birthday: N/A\n",
      "Good bye!\n"
     ]
    }
   ],
   "source": [
    "main()"
   ]
  }
 ],
 "metadata": {
  "kernelspec": {
   "display_name": "Python 3",
   "language": "python",
   "name": "python3"
  },
  "language_info": {
   "codemirror_mode": {
    "name": "ipython",
    "version": 3
   },
   "file_extension": ".py",
   "mimetype": "text/x-python",
   "name": "python",
   "nbconvert_exporter": "python",
   "pygments_lexer": "ipython3",
   "version": "3.11.3"
  }
 },
 "nbformat": 4,
 "nbformat_minor": 2
}
